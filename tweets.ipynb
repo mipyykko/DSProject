{
 "cells": [
  {
   "cell_type": "code",
   "execution_count": null,
   "metadata": {},
   "outputs": [],
   "source": [
    "import tweepy\n",
    "from tweepy import Stream\n",
    "from tweepy import StreamListener\n",
    "from tweepy import OAuthHandler\n",
    "import json\n",
    "import numpy as np\n",
    "import jsonpickle\n",
    "import time \n",
    "\n",
    "try:\n",
    "    with open(\".secrets\", \"r\") as f:\n",
    "        api_keys = f.readlines()\n",
    "    except Error as e:\n",
    "        print(\"no secrets file or error\")\n",
    "        exit()\n",
    "    \n",
    "consumer_key = api_keys[0]\n",
    "consumer_secret = api_keys[1]\n",
    "\n",
    "access_token = api_keys[2]\n",
    "access_secret = api_keys[3]\n",
    "\n",
    "auth = OAuthHandler(consumer_key, consumer_secret)\n",
    "auth.set_access_token(access_token, access_secret)\n",
    "\n",
    "api = tweepy.API(auth, wait_on_rate_limit=True, wait_on_rate_limit_notify=True)\n",
    "# bounding_box = [19.1686845, 59.675274, 19.1686845, 70.0922241, 31.586712, 70.0922241, 31.586712, 59.675274, 19.1686845, 59.675274 ]"
   ]
  },
  {
   "cell_type": "code",
   "execution_count": null,
   "metadata": {},
   "outputs": [],
   "source": [
    "tweetcount = 0\n",
    "\n",
    "with open(\"tweets2.json\", \"a\") as f:\n",
    "    cursor = tweepy.Cursor(api.search, q=\"*\", lang=\"fi\", since_id=id, tweet_mode=\"extended\").items(1000000)\n",
    "    \n",
    "    while True:\n",
    "        try:\n",
    "            tweet = cursor.next()\n",
    "            f.write(jsonpickle.encode(tweet._json, unpicklable=False) + \"\\n\")\n",
    "        except tweepy.TweepError as e:\n",
    "            print(\"err: \" + str(e))\n",
    "            time.sleep(60 * 15)\n",
    "            continue\n"
   ]
  }
 ],
 "metadata": {
  "kernelspec": {
   "display_name": "Python 3",
   "language": "python",
   "name": "python3"
  },
  "language_info": {
   "codemirror_mode": {
    "name": "ipython",
    "version": 3
   },
   "file_extension": ".py",
   "mimetype": "text/x-python",
   "name": "python",
   "nbconvert_exporter": "python",
   "pygments_lexer": "ipython3",
   "version": "3.5.2"
  }
 },
 "nbformat": 4,
 "nbformat_minor": 2
}
